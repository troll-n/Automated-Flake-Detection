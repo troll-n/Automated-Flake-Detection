{
 "cells": [
  {
   "cell_type": "markdown",
   "metadata": {},
   "source": [
    "# DBSETUP.ipynb\n",
    "\n",
    "Welcome to the database setup jupyter notebook!\n",
    "Assuming one has all of the necessary packages, this notebook will serve as a click-and-go way to set up the Automated Flake Detection database!"
   ]
  },
  {
   "cell_type": "markdown",
   "metadata": {},
   "source": [
    "## LOGIN\n",
    "Before we start, enter your root login info below. You should probably not commit this to the database seeing as it's, you know, your private info. You will need to run this block at least once before doing anything else in this notebook. It's also a good time to check and make sure you have the mysql-connector-python package, but that should be handled already if you've already followed the installation instructions."
   ]
  },
  {
   "cell_type": "code",
   "execution_count": 3,
   "metadata": {},
   "outputs": [],
   "source": [
    "import mysql.connector\n",
    "username = \"root\" # your username\n",
    "pw = \"\" # your password\n"
   ]
  },
  {
   "cell_type": "markdown",
   "metadata": {},
   "source": [
    "## Database Creation\n",
    "Creates a new database named AFD_db. "
   ]
  },
  {
   "cell_type": "code",
   "execution_count": null,
   "metadata": {},
   "outputs": [],
   "source": []
  }
 ],
 "metadata": {
  "kernelspec": {
   "display_name": "2DMatGMM",
   "language": "python",
   "name": "python3"
  },
  "language_info": {
   "codemirror_mode": {
    "name": "ipython",
    "version": 3
   },
   "file_extension": ".py",
   "mimetype": "text/x-python",
   "name": "python",
   "nbconvert_exporter": "python",
   "pygments_lexer": "ipython3",
   "version": "3.10.14"
  }
 },
 "nbformat": 4,
 "nbformat_minor": 2
}
