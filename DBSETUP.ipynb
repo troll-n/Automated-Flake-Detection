{
 "cells": [
  {
   "cell_type": "markdown",
   "metadata": {},
   "source": [
    "# DBSETUP.ipynb\n",
    "\n",
    "Welcome to the database setup jupyter notebook!\n",
    "Assuming one has all of the necessary packages, this notebook will serve as a click-and-go way to set up the Automated Flake Detection database!\n",
    "\n",
    "You should have come from INSTALL.md; if you haven't completed the steps in there, then this notebook probably won't work!"
   ]
  },
  {
   "cell_type": "markdown",
   "metadata": {},
   "source": [
    "## LOGIN\n",
    "Before we start, enter your root login info below. You should probably not commit this to the database seeing as it's, you know, your private info. You will need to run this block at least once before doing anything else in this notebook. It's also a good time to check and make sure you have the mysql-connector-python package, but that should be handled already if you've already followed the installation instructions."
   ]
  },
  {
   "cell_type": "code",
   "execution_count": 22,
   "metadata": {},
   "outputs": [
    {
     "name": "stdout",
     "output_type": "stream",
     "text": [
      "Password found in .vscode/settings.json!\n"
     ]
    }
   ],
   "source": [
    "from mysql.connector import Error, connect\n",
    "import os\n",
    "import json\n",
    "\n",
    "username = \"root\" # your username\n",
    "pw = \"\" # replace with your password as a string \n",
    "\n",
    "# loads up password from vscode/settings.json; likely not the case for you unless you've already set it up\n",
    "try:\n",
    "    FILE_DIR = os.path.dirname(os.path.abspath(''))\n",
    "    with open(os.path.join(FILE_DIR, \"Automated-Flake-Detection\", \".vscode\", \"settings.json\")) as f:\n",
    "        pw = json.load(f)['sqltools.connections'][0]['password']\n",
    "        print(\"Password found in .vscode/settings.json!\")\n",
    "except:\n",
    "    if pw == \"\":\n",
    "        print(\"No password found under .vscode/settings.json; you should type your password in manually.\")\n",
    "    else:\n",
    "        print(\"Password manually changed; continuing with your password.\")\n",
    "password =  pw "
   ]
  },
  {
   "cell_type": "markdown",
   "metadata": {},
   "source": [
    "## Database Creation\n",
    "Creates a new database named AFD_db under localhost, or your computer. Future iterations will hopefully include an option to just connect to a central database."
   ]
  },
  {
   "cell_type": "code",
   "execution_count": 23,
   "metadata": {},
   "outputs": [
    {
     "name": "stdout",
     "output_type": "stream",
     "text": [
      "1007 (HY000): Can't create database 'afd_db'; database exists\n"
     ]
    }
   ],
   "source": [
    "# NEEDS TO BE RUN AFTER LOGIN BLOCK IS POPULATED + RAN\n",
    "try:\n",
    "    with connect(\n",
    "        host = \"localhost\",\n",
    "        user = username,\n",
    "        password = password,\n",
    "    ) as connection:\n",
    "        with connection.cursor() as cursor:\n",
    "            cursor.execute(\"CREATE DATABASE AFD_db\")\n",
    "            connection.commit()\n",
    "except Error as e:\n",
    "    print(e)"
   ]
  },
  {
   "cell_type": "markdown",
   "metadata": {},
   "source": [
    "## Table Creation\n",
    "Creates the Flake and Chip tables in the AFD_db database."
   ]
  },
  {
   "cell_type": "code",
   "execution_count": 11,
   "metadata": {},
   "outputs": [
    {
     "name": "stdout",
     "output_type": "stream",
     "text": [
      "1050 (42S01): Table 'chips' already exists\n"
     ]
    }
   ],
   "source": [
    "# NEEDS TO BE RUN AFTER LOGIN BLOCK IS POPULATED + RAN\n",
    "create_chip_table = \"\"\"\n",
    "    CREATE TABLE Chips(\n",
    "        chip_id INT PRIMARY KEY AUTO_INCREMENT,\n",
    "        material VARCHAR(255) NOT NULL,\n",
    "        size INT NOT NULL,\n",
    "        img VARCHAR(255) \n",
    ")\"\"\"\n",
    "\n",
    "create_flake_table = \"\"\"\n",
    "    CREATE TABLE Flakes(\n",
    "        chip_id INT NOT NULL,\n",
    "        flake_id INT,\n",
    "        FOREIGN KEY (chip_id) REFERENCES Chips(chip_id),\n",
    "        PRIMARY KEY (chip_id, flake_id),\n",
    "        thickness VARCHAR(7),\n",
    "        size INT,\n",
    "        center_x INT,\n",
    "        center_y INT,\n",
    "        confidence FLOAT,\n",
    "        low_mag VARCHAR(255),\n",
    "        med_mag VARCHAR(255),\n",
    "        high_mag VARCHAR(255)\n",
    ")\n",
    "\"\"\"\n",
    "\n",
    "try:\n",
    "    with connect(\n",
    "        host = \"localhost\",\n",
    "        user = username,\n",
    "        password = password,\n",
    "        database = \"AFD_db\",\n",
    "    ) as connection:\n",
    "        with connection.cursor() as cursor:\n",
    "            cursor.execute(create_chip_table)\n",
    "            cursor.execute(create_flake_table)\n",
    "            connection.commit()\n",
    "except Error as e:\n",
    "    print(e)"
   ]
  },
  {
   "cell_type": "markdown",
   "metadata": {},
   "source": [
    "## All done, return to INSTALL.md!"
   ]
  }
 ],
 "metadata": {
  "kernelspec": {
   "display_name": "2DMatGMM",
   "language": "python",
   "name": "python3"
  },
  "language_info": {
   "codemirror_mode": {
    "name": "ipython",
    "version": 3
   },
   "file_extension": ".py",
   "mimetype": "text/x-python",
   "name": "python",
   "nbconvert_exporter": "python",
   "pygments_lexer": "ipython3",
   "version": "3.10.14"
  }
 },
 "nbformat": 4,
 "nbformat_minor": 2
}
