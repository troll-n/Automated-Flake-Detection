{
 "cells": [
  {
   "cell_type": "markdown",
   "metadata": {},
   "source": [
    "# DBSETUP.ipynb\n",
    "\n",
    "Welcome to the database setup jupyter notebook!\n",
    "Assuming one has all of the necessary packages, this notebook will serve as a click-and-go way to set up the Automated Flake Detection database!"
   ]
  },
  {
   "cell_type": "markdown",
   "metadata": {},
   "source": [
    "## LOGIN\n",
    "Before we start, enter your root login info below. You should probably not commit this to the database seeing as it's, you know, your private info. You will need to run this block at least once before doing anything else in this notebook. It's also a good time to check and make sure you have the mysql-connector-python package, but that should be handled already if you've already followed the installation instructions."
   ]
  },
  {
   "cell_type": "code",
   "execution_count": 23,
   "metadata": {},
   "outputs": [
    {
     "name": "stdout",
     "output_type": "stream",
     "text": [
      "c:\\Users\\pat35\\Documents\\GitHub\n",
      "c:\\Users\\pat35\\Documents\\GitHub\\Automated-Flake-Detection\\.vscode\\settings.json\n"
     ]
    }
   ],
   "source": [
    "import mysql.connector\n",
    "import os\n",
    "import json\n",
    "\n",
    "username = \"root\" # your username\n",
    "\n",
    "# loads up password from vscode/settings.json; likely not the case for you unless you've already set it up\n",
    "FILE_DIR = os.path.dirname(os.path.abspath(''))\n",
    "print(FILE_DIR)\n",
    "with open(os.path.join(FILE_DIR, \"Automated-Flake-Detection\", \".vscode\", \"settings.json\")) as f:\n",
    "    print(os.path.join(FILE_DIR, \"Automated-Flake-Detection\", \".vscode\", \"settings.json\"))\n",
    "    pw = json.load(f)['sqltools.connections'][0]['password']\n",
    "\n",
    "password =  pw # your password as a string (mine is in my .vscode/settings.json)\n",
    "\n"
   ]
  },
  {
   "cell_type": "markdown",
   "metadata": {},
   "source": [
    "## Database Creation\n",
    "Creates a new database named AFD_db. "
   ]
  },
  {
   "cell_type": "code",
   "execution_count": null,
   "metadata": {},
   "outputs": [],
   "source": []
  }
 ],
 "metadata": {
  "kernelspec": {
   "display_name": "2DMatGMM",
   "language": "python",
   "name": "python3"
  },
  "language_info": {
   "codemirror_mode": {
    "name": "ipython",
    "version": 3
   },
   "file_extension": ".py",
   "mimetype": "text/x-python",
   "name": "python",
   "nbconvert_exporter": "python",
   "pygments_lexer": "ipython3",
   "version": "3.10.14"
  }
 },
 "nbformat": 4,
 "nbformat_minor": 2
}
